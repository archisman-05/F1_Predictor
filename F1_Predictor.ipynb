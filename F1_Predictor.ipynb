{
 "cells": [
  {
   "metadata": {
    "ExecuteTime": {
     "end_time": "2025-03-25T14:41:19.403962Z",
     "start_time": "2025-03-25T14:41:18.337881Z"
    }
   },
   "cell_type": "code",
   "source": "pip install scikit-learn",
   "id": "93e5baca81adada2",
   "outputs": [
    {
     "name": "stdout",
     "output_type": "stream",
     "text": [
      "Requirement already satisfied: scikit-learn in ./.venv/lib/python3.9/site-packages (1.6.1)\r\n",
      "Requirement already satisfied: numpy>=1.19.5 in ./.venv/lib/python3.9/site-packages (from scikit-learn) (2.0.2)\r\n",
      "Requirement already satisfied: scipy>=1.6.0 in ./.venv/lib/python3.9/site-packages (from scikit-learn) (1.13.1)\r\n",
      "Requirement already satisfied: joblib>=1.2.0 in ./.venv/lib/python3.9/site-packages (from scikit-learn) (1.4.2)\r\n",
      "Requirement already satisfied: threadpoolctl>=3.1.0 in ./.venv/lib/python3.9/site-packages (from scikit-learn) (3.6.0)\r\n",
      "\r\n",
      "\u001B[1m[\u001B[0m\u001B[34;49mnotice\u001B[0m\u001B[1;39;49m]\u001B[0m\u001B[39;49m A new release of pip is available: \u001B[0m\u001B[31;49m23.2.1\u001B[0m\u001B[39;49m -> \u001B[0m\u001B[32;49m25.0.1\u001B[0m\r\n",
      "\u001B[1m[\u001B[0m\u001B[34;49mnotice\u001B[0m\u001B[1;39;49m]\u001B[0m\u001B[39;49m To update, run: \u001B[0m\u001B[32;49mpip install --upgrade pip\u001B[0m\r\n",
      "Note: you may need to restart the kernel to use updated packages.\n"
     ]
    }
   ],
   "execution_count": 1
  },
  {
   "metadata": {
    "ExecuteTime": {
     "end_time": "2025-03-27T16:37:25.299381Z",
     "start_time": "2025-03-27T16:37:22.754074Z"
    }
   },
   "cell_type": "code",
   "source": [
    "import fastf1\n",
    "import pandas as pd\n",
    "import numpy as np\n",
    "from sklearn.model_selection import train_test_split\n",
    "from sklearn.ensemble import GradientBoostingRegressor\n",
    "from sklearn.metrics import mean_absolute_error\n",
    "\n",
    "fastf1.Cache.enable_cache(\"f1_cache\")\n",
    "session_2024=fastf1.get_session(2024, 3, \"R\")\n",
    "session_2024.load()\n",
    "laps_2024=session_2024.laps[[\"Driver\", \"LapTime\"]].copy()\n",
    "laps_2024.dropna(subset=[\"LapTime\"], inplace=True)\n",
    "laps_2024[\"LapTime (s)\"]=laps_2024[\"LapTime\"].dt.total_seconds()\n",
    "\n",
    "qualifying_2025=pd.DataFrame({\n",
    "    \"Driver\": [\"Lando Norris\", \"Oscar Piastri\", \"Max Verstappen\", \"George Russell\", \"Yuki Tsunoda\", \"Alexander Albon\", \"Charles Leclarc\",\"Lewis Hamilton\", \"Pierre Gasly\", \"Carlos Sainz\", \"Lance Stroll\", \"Fernand Alonso\"],\n",
    "    \n",
    "    \"QualifyingTime (s)\": [75.096, 75.180, 74.481, 75.546, 75.670, 75.737, 75.755, 75.973, 75.900, 76.062, 76.400, 76.500]\n",
    "})\n",
    "driver_mapping={\n",
    "    \"Lando Norris\": \"NOR\", \"Oscar Piastri\": \"PIA\", \"Max Verstappen\": \"VER\", \"George Russell\": \"RUS\", \"Yuki Tsunoda\": \"TSU\", \n",
    "    \"Alexander Albon\": \"ALB\", \"Charles Leclarc\": \"LEC\", \"Lewis Hamilton\": \"HAM\", \"Pierre Gasly\": \"GAS\", \"Carlos Sainz\": \"SAI\", \"Lance Stroll\": \"STR\", \"Fernand Alonso\": \"ALO\"\n",
    "}\n",
    "qualifying_2025[\"DriverCode\"] = qualifying_2025[\"Driver\"].map(driver_mapping)\n",
    "merged_data=qualifying_2025.merge(laps_2024, left_on=\"DriverCode\", right_on=\"Driver\")\n",
    "x=merged_data[[\"QualifyingTime (s)\"]]\n",
    "y=merged_data[\"LapTime (s)\"]\n",
    "\n",
    "if x.shape[0]==0:\n",
    "    raise ValueError(\"Empty Dataset\")\n",
    "x_train, x_test, y_train, y_test = train_test_split(x, y, test_size=0.2, random_state=39)\n",
    "model= GradientBoostingRegressor(n_estimators=100, learning_rate=0.1, random_state=39)\n",
    "model.fit(x_train, y_train)\n",
    "predicted_lap_times=model.predict(qualifying_2025[[\"QualifyingTime (s)\"]])\n",
    "qualifying_2025[\"PredictedRaceTime (s)\"]=predicted_lap_times\n",
    "qualifying_2025=qualifying_2025.sort_values(by=\"PredictedRaceTime (s)\")\n",
    "print(\"\\n Predicted 2025 Australian GP Winner: \\n\")\n",
    "print(qualifying_2025[[\"Driver\", \"PredictedRaceTime (s)\"]])\n",
    "y_pred=model.predict(x_test)\n",
    "print(f\"\\n Model Error (MAE): {mean_absolute_error(y_test, y_pred):.2f} seconds\")"
   ],
   "id": "1d6c5e7adb5e4f74",
   "outputs": [
    {
     "name": "stderr",
     "output_type": "stream",
     "text": [
      "core           INFO \tLoading data for Australian Grand Prix - Race [v3.5.3]\n",
      "req            INFO \tUsing cached data for session_info\n",
      "req            INFO \tUsing cached data for driver_info\n",
      "req            INFO \tUsing cached data for session_status_data\n",
      "req            INFO \tUsing cached data for lap_count\n",
      "req            INFO \tUsing cached data for track_status_data\n",
      "req            INFO \tUsing cached data for _extended_timing_data\n",
      "req            INFO \tUsing cached data for timing_app_data\n",
      "core           INFO \tProcessing timing data...\n",
      "req            INFO \tUsing cached data for car_data\n",
      "req            INFO \tUsing cached data for position_data\n",
      "req            INFO \tUsing cached data for weather_data\n",
      "req            INFO \tUsing cached data for race_control_messages\n",
      "core           INFO \tFinished loading data for 19 drivers: ['55', '16', '4', '81', '11', '18', '22', '14', '27', '20', '23', '3', '10', '77', '24', '31', '63', '44', '1']\n"
     ]
    },
    {
     "name": "stdout",
     "output_type": "stream",
     "text": [
      "\n",
      " Predicted 2025 Australian GP Winner: \n",
      "\n",
      "             Driver  PredictedRaceTime (s)\n",
      "0      Lando Norris              82.711074\n",
      "6   Charles Leclarc              83.079100\n",
      "9      Carlos Sainz              83.618787\n",
      "3    George Russell              83.887261\n",
      "1     Oscar Piastri              84.329848\n",
      "4      Yuki Tsunoda              84.418938\n",
      "5   Alexander Albon              84.644237\n",
      "10     Lance Stroll              84.691932\n",
      "11   Fernand Alonso              85.114474\n",
      "2    Max Verstappen              85.267834\n",
      "8      Pierre Gasly              85.540019\n",
      "7    Lewis Hamilton              86.093940\n",
      "\n",
      " Model Error (MAE): 3.37 seconds\n"
     ]
    }
   ],
   "execution_count": 6
  }
 ],
 "metadata": {
  "kernelspec": {
   "display_name": "Python 3",
   "language": "python",
   "name": "python3"
  },
  "language_info": {
   "codemirror_mode": {
    "name": "ipython",
    "version": 2
   },
   "file_extension": ".py",
   "mimetype": "text/x-python",
   "name": "python",
   "nbconvert_exporter": "python",
   "pygments_lexer": "ipython2",
   "version": "2.7.6"
  }
 },
 "nbformat": 4,
 "nbformat_minor": 5
}
